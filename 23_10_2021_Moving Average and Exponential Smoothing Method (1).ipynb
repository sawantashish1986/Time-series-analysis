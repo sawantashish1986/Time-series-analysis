{
 "cells": [
  {
   "cell_type": "markdown",
   "id": "61bd03da",
   "metadata": {},
   "source": [
    "# Sales Forecast Analytics\n",
    "**DATA SCIENCE PRODEGREE PROJECT**"
   ]
  },
  {
   "cell_type": "code",
   "execution_count": 5,
   "id": "99a22217",
   "metadata": {},
   "outputs": [],
   "source": [
    "#Calling library\n",
    "import warnings\n",
    "import itertools\n",
    "import statsmodels.api as sm\n",
    "import pandas as pd\n",
    "import numpy as np\n",
    "import matplotlib as plt\n",
    "import matplotlib.pyplot as plt1\n",
    "warnings.filterwarnings(\"ignore\")\n",
    "plt.style.use(\"fivethirtyeight\")\n",
    "\n",
    "\n",
    "from matplotlib import pyplot"
   ]
  },
  {
   "cell_type": "code",
   "execution_count": 9,
   "id": "cc348533",
   "metadata": {},
   "outputs": [],
   "source": [
    "import os"
   ]
  },
  {
   "cell_type": "code",
   "execution_count": 13,
   "id": "489a9b33",
   "metadata": {},
   "outputs": [
    {
     "data": {
      "text/plain": [
       "'C:\\\\Users\\\\IOT10\\\\Desktop\\\\Sales Forecast'"
      ]
     },
     "execution_count": 13,
     "metadata": {},
     "output_type": "execute_result"
    }
   ],
   "source": [
    "os.getcwd()"
   ]
  },
  {
   "cell_type": "code",
   "execution_count": 14,
   "id": "3e39c188",
   "metadata": {},
   "outputs": [],
   "source": [
    "os.chdir(\"C:\\\\Users\\\\IOT10\\\\Desktop\\\\Sales Forecast\")"
   ]
  },
  {
   "cell_type": "code",
   "execution_count": 15,
   "id": "af1da196",
   "metadata": {},
   "outputs": [
    {
     "data": {
      "text/plain": [
       "'C:\\\\Users\\\\IOT10\\\\Desktop\\\\Sales Forecast'"
      ]
     },
     "execution_count": 15,
     "metadata": {},
     "output_type": "execute_result"
    }
   ],
   "source": [
    "os.getcwd()"
   ]
  },
  {
   "cell_type": "code",
   "execution_count": 16,
   "id": "88ece67b",
   "metadata": {},
   "outputs": [],
   "source": [
    "# fetching the data in excel and assigning a data frame\n",
    "\n",
    "df = pd.read_excel(\"Sales_Forecast_Data.xlsx\")"
   ]
  },
  {
   "cell_type": "code",
   "execution_count": 17,
   "id": "590f3050",
   "metadata": {},
   "outputs": [
    {
     "data": {
      "text/html": [
       "<div>\n",
       "<style scoped>\n",
       "    .dataframe tbody tr th:only-of-type {\n",
       "        vertical-align: middle;\n",
       "    }\n",
       "\n",
       "    .dataframe tbody tr th {\n",
       "        vertical-align: top;\n",
       "    }\n",
       "\n",
       "    .dataframe thead th {\n",
       "        text-align: right;\n",
       "    }\n",
       "</style>\n",
       "<table border=\"1\" class=\"dataframe\">\n",
       "  <thead>\n",
       "    <tr style=\"text-align: right;\">\n",
       "      <th></th>\n",
       "      <th>FIN_YEAR</th>\n",
       "      <th>MONTH</th>\n",
       "      <th>STATE</th>\n",
       "      <th>FG</th>\n",
       "      <th>DISTRICT</th>\n",
       "      <th>COMPANY</th>\n",
       "      <th>VALUE</th>\n",
       "    </tr>\n",
       "  </thead>\n",
       "  <tbody>\n",
       "    <tr>\n",
       "      <th>0</th>\n",
       "      <td>2014-2015</td>\n",
       "      <td>Nov</td>\n",
       "      <td>Haryana</td>\n",
       "      <td>Insecticides</td>\n",
       "      <td>Rohtak</td>\n",
       "      <td>monous</td>\n",
       "      <td>675.00</td>\n",
       "    </tr>\n",
       "    <tr>\n",
       "      <th>1</th>\n",
       "      <td>2014-2015</td>\n",
       "      <td>Nov</td>\n",
       "      <td>Haryana</td>\n",
       "      <td>Insecticides</td>\n",
       "      <td>Rewari</td>\n",
       "      <td>monous</td>\n",
       "      <td>73.71</td>\n",
       "    </tr>\n",
       "    <tr>\n",
       "      <th>2</th>\n",
       "      <td>2014-2015</td>\n",
       "      <td>Nov</td>\n",
       "      <td>Haryana</td>\n",
       "      <td>Insecticides</td>\n",
       "      <td>Gurgaon</td>\n",
       "      <td>monous</td>\n",
       "      <td>405.00</td>\n",
       "    </tr>\n",
       "    <tr>\n",
       "      <th>3</th>\n",
       "      <td>2014-2015</td>\n",
       "      <td>Nov</td>\n",
       "      <td>Haryana</td>\n",
       "      <td>Insecticides</td>\n",
       "      <td>Mewat</td>\n",
       "      <td>monous</td>\n",
       "      <td>1188.00</td>\n",
       "    </tr>\n",
       "    <tr>\n",
       "      <th>4</th>\n",
       "      <td>2014-2015</td>\n",
       "      <td>Nov</td>\n",
       "      <td>Haryana</td>\n",
       "      <td>Insecticides</td>\n",
       "      <td>Palwal</td>\n",
       "      <td>monous</td>\n",
       "      <td>5188.59</td>\n",
       "    </tr>\n",
       "  </tbody>\n",
       "</table>\n",
       "</div>"
      ],
      "text/plain": [
       "    FIN_YEAR MONTH    STATE            FG DISTRICT  COMPANY    VALUE\n",
       "0  2014-2015   Nov  Haryana  Insecticides   Rohtak  monous    675.00\n",
       "1  2014-2015   Nov  Haryana  Insecticides   Rewari  monous     73.71\n",
       "2  2014-2015   Nov  Haryana  Insecticides  Gurgaon  monous    405.00\n",
       "3  2014-2015   Nov  Haryana  Insecticides    Mewat  monous   1188.00\n",
       "4  2014-2015   Nov  Haryana  Insecticides   Palwal  monous   5188.59"
      ]
     },
     "execution_count": 17,
     "metadata": {},
     "output_type": "execute_result"
    }
   ],
   "source": [
    "# checking the data\n",
    "\n",
    "df.head()"
   ]
  },
  {
   "cell_type": "code",
   "execution_count": null,
   "id": "f306caa4",
   "metadata": {},
   "outputs": [],
   "source": [
    "# renaming the column heads based om data dictionary\n",
    "\n",
    "df1=df.rename({\"FIN_YEAR\": \"Financial Year\",\"MONTH\": \"Month of sale\", \"STATE\": \"State of India\", \"FG\":\"Pesticide type\" ,\"DISTRICT\":\"District of state\",\"COMPANY\":\"Company name\", \"VALUE\": \"Pesticide Quantity\"},axis='columns')"
   ]
  },
  {
   "cell_type": "code",
   "execution_count": null,
   "id": "06ee8e08",
   "metadata": {},
   "outputs": [],
   "source": [
    "# checking the column data heads with change names\n",
    "df1"
   ]
  },
  {
   "cell_type": "code",
   "execution_count": null,
   "id": "6f61e7c7",
   "metadata": {},
   "outputs": [],
   "source": [
    "# Mapping FY date years from Financial year\n",
    "df2 = pd.DataFrame({'Financial Year': ['2014-2015', '2015-2016','2016-2017','2017-2018'],\n",
    "                    'FY': ['2014-','2015-','2016-','2017-']})\n",
    "df2"
   ]
  },
  {
   "cell_type": "code",
   "execution_count": null,
   "id": "aef5842d",
   "metadata": {},
   "outputs": [],
   "source": [
    "# merging this new data with FY to original data\n",
    "df3= pd.merge(df1, \n",
    "                      df2, \n",
    "                      on ='Financial Year', \n",
    "                      how ='left')\n",
    "df3"
   ]
  },
  {
   "cell_type": "code",
   "execution_count": null,
   "id": "b624f141",
   "metadata": {},
   "outputs": [],
   "source": []
  },
  {
   "cell_type": "code",
   "execution_count": null,
   "id": "a3493db1",
   "metadata": {},
   "outputs": [],
   "source": [
    "# Mapping date months from Months\n",
    "df5 = pd.DataFrame({'Month of sale': ['Jan','Feb','Mar','Apr','May','Jun','Jul','Aug','Sep','Oct','Nov','Dec'],\n",
    "                     'Monthdate of sale': ['01-01','02-01','03-01','04-01','05-01','06-01','07-01','08-01','09-01','10-01','11-01','12-01']})\n",
    "df5\n"
   ]
  },
  {
   "cell_type": "code",
   "execution_count": null,
   "id": "303203b8",
   "metadata": {},
   "outputs": [],
   "source": [
    "# adding/Merging Monthdata to Original data\n",
    "df4= pd.merge(df3, \n",
    "                      df5, \n",
    "                      on ='Month of sale', \n",
    "                      how ='left')\n",
    "df4"
   ]
  },
  {
   "cell_type": "code",
   "execution_count": null,
   "id": "6ed1347d",
   "metadata": {},
   "outputs": [],
   "source": [
    "\n",
    "#Mapping state code to state of India\n",
    "df6 = pd.DataFrame({'State of India': ['Haryana','Himachal Pradesh','Punjab','Uttar Pradesh','Uttarakhand'],\n",
    "                     'State_CD': ['HR','HP','PU','UP','UT']})\n",
    "df6"
   ]
  },
  {
   "cell_type": "code",
   "execution_count": null,
   "id": "ffacb540",
   "metadata": {},
   "outputs": [],
   "source": [
    "# Merging state code to Original data\n",
    "df7= pd.merge(df4, \n",
    "                      df6, \n",
    "                      on ='State of India', \n",
    "                      how ='left')\n",
    "df7"
   ]
  },
  {
   "cell_type": "code",
   "execution_count": null,
   "id": "6d319781",
   "metadata": {},
   "outputs": [],
   "source": [
    "# checking the new data with additional new coloumns added\n",
    "print (df7)"
   ]
  },
  {
   "cell_type": "code",
   "execution_count": null,
   "id": "5e3484a0",
   "metadata": {},
   "outputs": [],
   "source": [
    "#checking numbers of rows\n",
    "len(df7)"
   ]
  },
  {
   "cell_type": "code",
   "execution_count": null,
   "id": "e0574de6",
   "metadata": {},
   "outputs": [],
   "source": []
  },
  {
   "cell_type": "code",
   "execution_count": null,
   "id": "3965866d",
   "metadata": {},
   "outputs": [],
   "source": [
    "#checking class of data\n",
    "df7.info()"
   ]
  },
  {
   "cell_type": "code",
   "execution_count": null,
   "id": "1d517aed",
   "metadata": {},
   "outputs": [],
   "source": [
    "# Concatenating date coloumn from FY\n",
    "df7['Date']=df7['FY'].map(str)+df7['Monthdate of sale'].map(str)"
   ]
  },
  {
   "cell_type": "code",
   "execution_count": null,
   "id": "b0d36648",
   "metadata": {},
   "outputs": [],
   "source": [
    "df7"
   ]
  },
  {
   "cell_type": "code",
   "execution_count": null,
   "id": "9d10495a",
   "metadata": {},
   "outputs": [],
   "source": [
    "#checking class of object\n",
    "df7.info()"
   ]
  },
  {
   "cell_type": "code",
   "execution_count": null,
   "id": "c57d6ed2",
   "metadata": {},
   "outputs": [],
   "source": [
    "#converting date from object to timeseries\n",
    "df7['Date']=pd.to_datetime(df7['Date'])\n"
   ]
  },
  {
   "cell_type": "code",
   "execution_count": null,
   "id": "d5d90e70",
   "metadata": {},
   "outputs": [],
   "source": [
    "df7"
   ]
  },
  {
   "cell_type": "code",
   "execution_count": null,
   "id": "5e4e0fa9",
   "metadata": {},
   "outputs": [],
   "source": [
    "#Rearranging columns of New data in proper format\n",
    "df8=df7.reindex(columns= ['Financial Year','Month of sale','Date','Quarter','Company name','State of India','State_CD','District of state','Pesticide type','Pesticide Quantity'])\n",
    "df8"
   ]
  },
  {
   "cell_type": "code",
   "execution_count": null,
   "id": "d2b9ea2c",
   "metadata": {},
   "outputs": [],
   "source": [
    "# checking Null values\n",
    "df8.isnull().values.any()\n",
    "df8.isnull().sum()\n",
    "df8.isnull().count()"
   ]
  },
  {
   "cell_type": "code",
   "execution_count": null,
   "id": "14d90ca5",
   "metadata": {},
   "outputs": [],
   "source": [
    "# assigning data fram and what is persticide sales for differnet company based on different pesticide type\n",
    "ds=df8.groupby( ['Company name','Pesticide type'])['Pesticide Quantity'].sum()/1000 "
   ]
  },
  {
   "cell_type": "code",
   "execution_count": null,
   "id": "09b35f16",
   "metadata": {},
   "outputs": [],
   "source": [
    "#chrcking data of different company and type for each \n",
    "ds"
   ]
  },
  {
   "cell_type": "code",
   "execution_count": null,
   "id": "47e1f116",
   "metadata": {},
   "outputs": [],
   "source": [
    "# checking data type\n",
    "df8.info()"
   ]
  },
  {
   "cell_type": "code",
   "execution_count": null,
   "id": "9bb25936",
   "metadata": {},
   "outputs": [],
   "source": [
    "#characterstics of data\n",
    "df8.describe()"
   ]
  },
  {
   "cell_type": "code",
   "execution_count": null,
   "id": "e37c16f9",
   "metadata": {},
   "outputs": [],
   "source": [
    "df8[\"Date\"].min(),df8[\"Date\"].max()"
   ]
  },
  {
   "cell_type": "code",
   "execution_count": null,
   "id": "3fff3a3a",
   "metadata": {},
   "outputs": [],
   "source": [
    "#creating another dataframe for time series with sales and date\n",
    "cols = ['Financial Year','Month of sale','Quarter','Company name','State of India','State_CD','District of state','Pesticide type']\n",
    "df8.drop(cols, axis=1, inplace=True)"
   ]
  },
  {
   "cell_type": "code",
   "execution_count": null,
   "id": "7e96d46d",
   "metadata": {},
   "outputs": [],
   "source": [
    "df8.isnull().count()"
   ]
  },
  {
   "cell_type": "code",
   "execution_count": null,
   "id": "a51d3940",
   "metadata": {},
   "outputs": [],
   "source": [
    "#aggregate sales by date\n",
    "df9=df8.groupby('Date')['Pesticide Quantity'].sum().reset_index()\n",
    "df9\n",
    "df9.isnull().count()"
   ]
  },
  {
   "cell_type": "code",
   "execution_count": null,
   "id": "1908264b",
   "metadata": {},
   "outputs": [],
   "source": [
    "#converting in 1000's in Metric tonnes\n",
    "df9['Pesticide Quantity']=df9['Pesticide Quantity']/1000"
   ]
  },
  {
   "cell_type": "code",
   "execution_count": null,
   "id": "b083cf06",
   "metadata": {},
   "outputs": [],
   "source": [
    "df9\n",
    "df9.isnull().count()"
   ]
  },
  {
   "cell_type": "code",
   "execution_count": null,
   "id": "36a24178",
   "metadata": {},
   "outputs": [],
   "source": [
    "# setting date as Index\n",
    "df9.set_index('Date',inplace = True)"
   ]
  },
  {
   "cell_type": "code",
   "execution_count": null,
   "id": "98282c90",
   "metadata": {},
   "outputs": [],
   "source": [
    "df9.info()"
   ]
  },
  {
   "cell_type": "code",
   "execution_count": null,
   "id": "de5162c3",
   "metadata": {},
   "outputs": [],
   "source": [
    "df9.head()"
   ]
  },
  {
   "cell_type": "code",
   "execution_count": null,
   "id": "00520fdd",
   "metadata": {},
   "outputs": [],
   "source": [
    "#sampling of data\n",
    "df9.index\n",
    "\n",
    "y=df9[\"Pesticide Quantity\"].resample(\"MS\").mean()"
   ]
  },
  {
   "cell_type": "code",
   "execution_count": null,
   "id": "184994df",
   "metadata": {},
   "outputs": [],
   "source": [
    "#plotting graph of pesticide \n",
    "y.plot(figsize=(14,7))\n",
    "plt1.show()"
   ]
  },
  {
   "cell_type": "code",
   "execution_count": null,
   "id": "9987b496",
   "metadata": {},
   "outputs": [],
   "source": [
    "#Check for missing values \n",
    "y.isnull().values.any()\n",
    "y.isnull().sum()\n",
    "y"
   ]
  },
  {
   "cell_type": "code",
   "execution_count": null,
   "id": "ca095257",
   "metadata": {},
   "outputs": [],
   "source": [
    "y.describe()"
   ]
  },
  {
   "cell_type": "code",
   "execution_count": null,
   "id": "fdbf4fb4",
   "metadata": {},
   "outputs": [],
   "source": [
    "#Assigning mean to null value\n",
    "y.fillna(y.mean(),inplace=True)"
   ]
  },
  {
   "cell_type": "code",
   "execution_count": null,
   "id": "010fb161",
   "metadata": {},
   "outputs": [],
   "source": [
    "# checking \n",
    "y.isnull().values.any()\n",
    "y.isnull().sum()\n"
   ]
  },
  {
   "cell_type": "code",
   "execution_count": null,
   "id": "b90359f2",
   "metadata": {},
   "outputs": [],
   "source": [
    "#plotting graph of pesticide \n",
    "y.plot(figsize=(14,7))\n",
    "plt1.show()"
   ]
  },
  {
   "cell_type": "code",
   "execution_count": null,
   "id": "a89d16d4",
   "metadata": {},
   "outputs": [],
   "source": [
    "#checking for stationarity\n",
    "#augemented Dickey fuller (ADF)\n",
    "#H0: Time series can be represented by unit root,that it is not stationary\n",
    "#H1: if we reject null hypothesis then time series is stationary"
   ]
  },
  {
   "cell_type": "code",
   "execution_count": null,
   "id": "d03a5335",
   "metadata": {},
   "outputs": [],
   "source": [
    "from pandas import Series \n",
    "from statsmodels.tsa.stattools import adfuller \n",
    "result =adfuller(y)\n",
    "result\n",
    "\n",
    "print('p value: %f' % result[1])\n",
    "\n"
   ]
  },
  {
   "cell_type": "code",
   "execution_count": null,
   "id": "c2868e73",
   "metadata": {},
   "outputs": [],
   "source": [
    "lables =['ADF Test statistics','p-value','#lags used','#Number of Observations Used']\n",
    "for value,label in zip(result,lables):\n",
    "    print(label+':'+str(value))\n",
    "if result[1] <= 0.05:\n",
    "        print (\"Strong evidence against the null hypothesis (H0),reject the null hypothesis ,Data has no unit root and is stationary\")\n",
    "else :\n",
    "        print (\"Weak evidence against null hypothesis (H1), time series has a unit root ,indicating it is non stationary \")"
   ]
  },
  {
   "cell_type": "code",
   "execution_count": null,
   "id": "f30f3742",
   "metadata": {},
   "outputs": [],
   "source": [
    "#Decomposition of data in trend,seasonal and residual\n",
    "\n",
    "from statsmodels.tsa.seasonal import seasonal_decompose"
   ]
  },
  {
   "cell_type": "code",
   "execution_count": null,
   "id": "f78ed4fa",
   "metadata": {},
   "outputs": [],
   "source": [
    "y.sort_index(inplace = True)"
   ]
  },
  {
   "cell_type": "code",
   "execution_count": null,
   "id": "378aee09",
   "metadata": {},
   "outputs": [],
   "source": [
    "decomposition = seasonal_decompose(y)"
   ]
  },
  {
   "cell_type": "code",
   "execution_count": null,
   "id": "7c0a0c73",
   "metadata": {},
   "outputs": [],
   "source": [
    "plt1.plot(y,label = \"original\")\n",
    "plt1.legend(loc = \"best\")\n",
    "trend = decomposition.trend\n",
    "plt1.show()\n",
    "plt1.plot(trend,label = \"Trend\")\n",
    "plt1.legend(loc = \"best\")\n",
    "seasonal = decomposition.seasonal\n",
    "plt1.show()\n",
    "plt1.plot(seasonal,label = \"Seasonal\")\n",
    "plt1.legend(loc = \"best\")\n",
    "residual = decomposition.resid\n",
    "plt1.show()\n",
    "plt1.plot(residual,label = \"Residual\")\n",
    "plt1.legend(loc = \"best\")"
   ]
  },
  {
   "cell_type": "markdown",
   "id": "59f727e2",
   "metadata": {},
   "source": [
    "# Building forecasting model using Moving Average "
   ]
  },
  {
   "cell_type": "code",
   "execution_count": null,
   "id": "f432ce7d",
   "metadata": {},
   "outputs": [],
   "source": [
    "# Moving Average Method\n",
    "y.rolling(window=2).mean()"
   ]
  },
  {
   "cell_type": "code",
   "execution_count": null,
   "id": "6f2d715a",
   "metadata": {},
   "outputs": [],
   "source": [
    "plt1.plot(y.rolling(window=2).mean())"
   ]
  },
  {
   "cell_type": "code",
   "execution_count": null,
   "id": "b19b8e11",
   "metadata": {},
   "outputs": [],
   "source": [
    "plt1.figure(figsize=[15,10])\n",
    "plt1.grid(True)\n",
    "plt1.plot(y,label='data')\n",
    "plt1.plot(y.rolling(window=2).mean(),label='SMA 2 Years')\n",
    "plt1.plot(y.rolling(window=3).mean(),label='SMA 3 Years')\n",
    "plt1.legend(loc=1)"
   ]
  },
  {
   "cell_type": "code",
   "execution_count": null,
   "id": "13276d96",
   "metadata": {},
   "outputs": [],
   "source": [
    "from pandas import read_excel\n",
    "from numpy import mean\n",
    "from sklearn.metrics import mean_squared_error\n",
    "from matplotlib import pyplot\n"
   ]
  },
  {
   "cell_type": "code",
   "execution_count": null,
   "id": "71383c6f",
   "metadata": {},
   "outputs": [],
   "source": [
    "#series = pd.read_excel('\"Sales_Forecast_Data.xlsx\"', header=0, index_col=0)\n",
    "df = pd.read_excel(\"Sales_Forecast_Data.xlsx\",header=0, index_col=0)"
   ]
  },
  {
   "cell_type": "code",
   "execution_count": null,
   "id": "60fd9c3e",
   "metadata": {},
   "outputs": [],
   "source": [
    "# prepare situation\n",
    "X = df.values\n",
    "window = 3\n",
    "history = [X[i] for i in range(window)]\n",
    "test = [X[i] for i in range(window, len(X))]\n",
    "predictions = list()\n"
   ]
  },
  {
   "cell_type": "code",
   "execution_count": null,
   "id": "8017e7bb",
   "metadata": {},
   "outputs": [],
   "source": [
    "# walk forward over time steps in test\n",
    "for t in range(len(test)):\n",
    "#\tlength = len(history)\n",
    "#\tyhat = mean([history[i] for i in range(length-window,length)])\n",
    "#\tobs = test[t]\n",
    "\thistory.append(obs)\n",
    "#\tprint('predicted=%f, expected=%f' % (yhat, obs))\n",
    "error = mean_squared_error(test, predictions)\n"
   ]
  },
  {
   "cell_type": "code",
   "execution_count": null,
   "id": "d01629e1",
   "metadata": {},
   "outputs": [],
   "source": [
    "print('Test MSE: %.3f' % error)\n",
    "# plot\n",
    "plt1.plot(test)\n",
    "plt1.plot(predictions, color='red')\n",
    "plt1.show()\n"
   ]
  },
  {
   "cell_type": "code",
   "execution_count": null,
   "id": "b4b1218b",
   "metadata": {},
   "outputs": [],
   "source": [
    "# zoom plot\n",
    "pyplot.plot(test[0:100])\n",
    "pyplot.plot(predictions[0:100], color='red')\n",
    "pyplot.show()"
   ]
  },
  {
   "cell_type": "markdown",
   "id": "8aced95f",
   "metadata": {},
   "source": [
    "# Building forecasting model using Exponential smoothing"
   ]
  },
  {
   "cell_type": "code",
   "execution_count": null,
   "id": "6587fba1",
   "metadata": {},
   "outputs": [],
   "source": [
    "from statsmodels.tsa.api import ExponentialSmoothing, SimpleExpSmoothing, Holt"
   ]
  },
  {
   "cell_type": "code",
   "execution_count": null,
   "id": "fee371e4",
   "metadata": {},
   "outputs": [],
   "source": [
    "# Simple Exponential Smoothing Method --- with Alpha = 0.20\n",
    "fit1 = SimpleExpSmoothing(y).fit(smoothing_level=0.2,optimized=False)"
   ]
  },
  {
   "cell_type": "code",
   "execution_count": null,
   "id": "153b3613",
   "metadata": {},
   "outputs": [],
   "source": [
    "# Fitted Values\n",
    "fit1.fittedvalues"
   ]
  },
  {
   "cell_type": "code",
   "execution_count": null,
   "id": "c4866e04",
   "metadata": {},
   "outputs": [],
   "source": [
    "# Model Parameters \n",
    "fit1.params"
   ]
  },
  {
   "cell_type": "code",
   "execution_count": null,
   "id": "6536bcf3",
   "metadata": {},
   "outputs": [],
   "source": [
    "# Model Parameters (Formated form)\n",
    "fit1.params_formatted"
   ]
  },
  {
   "cell_type": "code",
   "execution_count": null,
   "id": "36c5d9c9",
   "metadata": {},
   "outputs": [],
   "source": [
    "# Model Selection Criteria (AIC, AICc, BIC)\n",
    "fit1.aic, fit1.aicc, fit1.bic"
   ]
  },
  {
   "cell_type": "code",
   "execution_count": null,
   "id": "50617fbc",
   "metadata": {},
   "outputs": [],
   "source": [
    "# Predction for next Years\n",
    "fcast1 = fit1.forecast(1)\n",
    "fcast1"
   ]
  },
  {
   "cell_type": "code",
   "execution_count": null,
   "id": "c93c4299",
   "metadata": {},
   "outputs": [],
   "source": [
    "# Simple Exponential Smoothing Method --- with Alpha = 0.60\n",
    "fit2 = SimpleExpSmoothing(y).fit(smoothing_level=0.6,optimized=False)\n",
    "fcast2 = fit2.forecast(1)\n",
    "fcast2"
   ]
  },
  {
   "cell_type": "code",
   "execution_count": null,
   "id": "793ad92a",
   "metadata": {},
   "outputs": [],
   "source": [
    "# Model Selection Criteria (AIC, AICc, BIC)\n",
    "fit2.aic, fit2.aicc, fit2.bic"
   ]
  },
  {
   "cell_type": "code",
   "execution_count": null,
   "id": "faa0bc2d",
   "metadata": {},
   "outputs": [],
   "source": [
    "# Simple Exponential Smoothing Method --- with optimized Alpha value automatically computed by the Statsmodels library \n",
    "fit3 = SimpleExpSmoothing(y).fit()"
   ]
  },
  {
   "cell_type": "code",
   "execution_count": null,
   "id": "1570b172",
   "metadata": {},
   "outputs": [],
   "source": [
    "# Model Selection Criteria (AIC, AICc, BIC)\n",
    "fit3.aic, fit3.aicc, fit3.bic"
   ]
  },
  {
   "cell_type": "code",
   "execution_count": null,
   "id": "19371b1d",
   "metadata": {},
   "outputs": [],
   "source": [
    "# Compare Model-1, 2 and 3 based on AIC, AICc, and BIC\n",
    "model1fit = fit1.aic,fit1.aicc,fit1.bic\n",
    "model2fit = fit2.aic,fit2.aicc,fit2.bic\n",
    "model3fit = fit3.aic,fit3.aicc,fit3.bic\n",
    "\n",
    "results=(pd.DataFrame(index=[\"AIC\",\"AICc\",\"BIC\"] ,columns=['Model-1', \"Model-2\",\"Model-3\"]))\n",
    "results[\"Model-1\"] = model1fit\n",
    "results[\"Model-2\"] = model2fit\n",
    "results[\"Model-3\"] = model3fit\n",
    "results"
   ]
  },
  {
   "cell_type": "code",
   "execution_count": null,
   "id": "e9b7e20b",
   "metadata": {},
   "outputs": [],
   "source": [
    "# Predction for next Years\n",
    "fcast3 = fit3.forecast(1)\n",
    "fcast3"
   ]
  },
  {
   "cell_type": "code",
   "execution_count": null,
   "id": "4447b1bd",
   "metadata": {},
   "outputs": [],
   "source": [
    "# Model Parameters\n",
    "fit3.params"
   ]
  },
  {
   "cell_type": "code",
   "execution_count": null,
   "id": "63c66008",
   "metadata": {},
   "outputs": [],
   "source": [
    "# Accessing the Value of Alpha\n",
    "fit3.params['smoothing_level']"
   ]
  },
  {
   "cell_type": "code",
   "execution_count": null,
   "id": "523c2737",
   "metadata": {},
   "outputs": [],
   "source": [
    "#Simple Exponential Smoothing Methods: Graphical Comparison"
   ]
  },
  {
   "cell_type": "code",
   "execution_count": null,
   "id": "a0f192a4",
   "metadata": {},
   "outputs": [],
   "source": [
    "plt1.figure(figsize=[15,10])\n",
    "plt1.grid(True)\n",
    "# Actucal data\n",
    "plt1.plot(y,label='data',color='black',marker='o')\n",
    "\n",
    "# SES with Alpha = 0.2\n",
    "plt1.plot(fcast1,label='SES Alpha=0.2',color='red',marker='o')\n",
    "plt1.plot(fit1.fittedvalues,color='red',marker='o')\n",
    "\n",
    "# SES with Alpha = 0.6\n",
    "plt1.plot(fcast2,label='SES Alpha=0.6',color='green',marker='o')\n",
    "plt1.plot(fit2.fittedvalues,color='green',marker='o')\n",
    "\n",
    "# SES with Optimum Alpha \n",
    "plt1.plot(fcast3,label=fit3.params['smoothing_level'],color='blue',marker='o')\n",
    "plt1.plot(fit3.fittedvalues,color='blue',marker='o')\n",
    "\n",
    "plt1.legend(loc=2)"
   ]
  },
  {
   "cell_type": "markdown",
   "id": "c75db15a",
   "metadata": {},
   "source": [
    "# building forecasting model using ARIMA"
   ]
  },
  {
   "cell_type": "code",
   "execution_count": null,
   "id": "816ad7ff",
   "metadata": {},
   "outputs": [],
   "source": [
    "p = d = q = range(0,2)\n",
    "p = d = q = range(0,2)\n",
    "pdq = list(itertools.product(p,d,q))\n",
    "seasonal_pdq = [(x[0],x[1],x[2],12) for x in list(itertools.product(p,d,q))]\n",
    "print(\"example of parameter combinations for seasonal ARIMA...\")\n",
    "print('SARIMAX:{} x {}'.format(pdq[1],seasonal_pdq[1]))\n",
    "print('SARIMAX:{} x {}'.format(pdq[1],seasonal_pdq[2]))"
   ]
  },
  {
   "cell_type": "code",
   "execution_count": null,
   "id": "6e8fe177",
   "metadata": {},
   "outputs": [],
   "source": [
    "pdq"
   ]
  },
  {
   "cell_type": "code",
   "execution_count": null,
   "id": "b4f0e6b5",
   "metadata": {},
   "outputs": [],
   "source": [
    "#parameter selection using gride search\n",
    "\n",
    "#grid search\n",
    "from pylab import rcParams\n",
    "for param in pdq:\n",
    "    for param_seasonal in seasonal_pdq:\n",
    "        try:\n",
    "            mod = sm.tsa.statespace.SARIMAX(y,order = param,\n",
    "                                           seasonal_order = param_seasonal,enforce_stationarity = False,\n",
    "                                           enforce_invertibility = False)\n",
    "            results = mod.fit()\n",
    "            print('ARIMA{}X{}12 - AIC:{}'.format(param,param_seasonal, results.aic))\n",
    "        except:\n",
    "            continue"
   ]
  },
  {
   "cell_type": "markdown",
   "id": "7b90acbe",
   "metadata": {},
   "source": [
    "# Fitting the SARIMA model considering data is cyclic"
   ]
  },
  {
   "cell_type": "code",
   "execution_count": null,
   "id": "d1e3fe37",
   "metadata": {},
   "outputs": [],
   "source": [
    "# Fitting the SARIMA model considering data is cyclic\n",
    "mod = sm.tsa.statespace.SARIMAX(y, order = (0, 1, 1),seasonal_order =(0, 1, 1, 12))\n",
    "results = mod.fit()"
   ]
  },
  {
   "cell_type": "code",
   "execution_count": null,
   "id": "f565f648",
   "metadata": {},
   "outputs": [],
   "source": [
    "print(results.summary().tables[1])"
   ]
  },
  {
   "cell_type": "code",
   "execution_count": null,
   "id": "d672dd9d",
   "metadata": {},
   "outputs": [],
   "source": [
    "# Fitting the ARIMA model which is not appropiate since the data is seasonal\n",
    "\n",
    "from statsmodels.tsa.arima_model import ARIMA"
   ]
  },
  {
   "cell_type": "code",
   "execution_count": null,
   "id": "b7922801",
   "metadata": {},
   "outputs": [],
   "source": [
    "mod1 = ARIMA(y, order = (0, 1, 1))\n",
    "results1 = mod1.fit()"
   ]
  },
  {
   "cell_type": "code",
   "execution_count": null,
   "id": "bb94edf8",
   "metadata": {},
   "outputs": [],
   "source": [
    "print(results1.summary().tables[1])"
   ]
  },
  {
   "cell_type": "code",
   "execution_count": null,
   "id": "15f6f5ca",
   "metadata": {},
   "outputs": [],
   "source": [
    "results.plot_diagnostics(figsize= (14,7))\n",
    "plt1.show()"
   ]
  },
  {
   "cell_type": "code",
   "execution_count": null,
   "id": "9cb59674",
   "metadata": {},
   "outputs": [],
   "source": [
    "# Validating forecast\n",
    "# set  forecast to start at 2017-01-01 and validating with observed data"
   ]
  },
  {
   "cell_type": "code",
   "execution_count": null,
   "id": "85aba704",
   "metadata": {},
   "outputs": [],
   "source": [
    "pred = results.get_prediction(start = pd.to_datetime(\"2017-01-01\"),dynamic = False)\n",
    "pred_ci = pred.conf_int()\n",
    "ax = y[\"2014\":].plot(label = \"Observed\")\n",
    "pred.predicted_mean.plot(ax = ax,label = \"One step ahead forecast\", alpha = .7 ,figsize= (14,7))\n",
    "ax.fill_between(pred_ci.index,\n",
    "               pred_ci.iloc[:,0],\n",
    "               pred_ci.iloc[:,1], alpha = .2)\n",
    "ax.set_xlabel(\"Date\")\n",
    "ax.set_ylabel(\"Pesticide Quantity\")\n",
    "plt1.legend()\n",
    "plt1.show()"
   ]
  },
  {
   "cell_type": "code",
   "execution_count": null,
   "id": "2e37fb6e",
   "metadata": {},
   "outputs": [],
   "source": [
    "pred.predicted_mean"
   ]
  },
  {
   "cell_type": "code",
   "execution_count": null,
   "id": "f9286a80",
   "metadata": {},
   "outputs": [],
   "source": [
    "#calculate RMSE for 2017 data\n",
    "y_forecasted = pred.predicted_mean\n",
    "y_truth = y['2017-01-01':]\n",
    "\n",
    "mse = ((y_forecasted-y_truth)**2).mean()\n",
    "rmse = round(np.sqrt(mse),2)"
   ]
  },
  {
   "cell_type": "code",
   "execution_count": null,
   "id": "4ea8b20b",
   "metadata": {},
   "outputs": [],
   "source": [
    "mse"
   ]
  },
  {
   "cell_type": "code",
   "execution_count": null,
   "id": "13a13503",
   "metadata": {},
   "outputs": [],
   "source": [
    "rmse"
   ]
  },
  {
   "cell_type": "code",
   "execution_count": null,
   "id": "01cbf248",
   "metadata": {},
   "outputs": [],
   "source": [
    "# forecasting for 2018-19"
   ]
  },
  {
   "cell_type": "code",
   "execution_count": null,
   "id": "1067e9e7",
   "metadata": {},
   "outputs": [],
   "source": [
    "pred_uc = results.get_forecast(steps= 24)\n",
    "pred_ci = pred_uc.conf_int()\n",
    "ax = y.plot(label= \"observed\",figsize = (14,7))\n",
    "pred_uc.predicted_mean.plot(ax= ax,label = \"Forecast\")\n",
    "ax.fill_between(pred_ci.index,\n",
    "               pred_ci.iloc[:,0],\n",
    "               pred_ci.iloc[:,1],alpha = .25)\n",
    "ax.set_xlabel(\"Date\")\n",
    "ax.set_ylabel(\"Pesticide Quantity\")\n",
    "print(pred_uc.predicted_mean,pred_ci)\n",
    "#print(pred_ci)\n",
    "plt1.legend()\n",
    "plt1.show()"
   ]
  },
  {
   "cell_type": "code",
   "execution_count": null,
   "id": "84fdc638",
   "metadata": {},
   "outputs": [],
   "source": []
  }
 ],
 "metadata": {
  "kernelspec": {
   "display_name": "Python 3",
   "language": "python",
   "name": "python3"
  },
  "language_info": {
   "codemirror_mode": {
    "name": "ipython",
    "version": 3
   },
   "file_extension": ".py",
   "mimetype": "text/x-python",
   "name": "python",
   "nbconvert_exporter": "python",
   "pygments_lexer": "ipython3",
   "version": "3.8.8"
  }
 },
 "nbformat": 4,
 "nbformat_minor": 5
}
